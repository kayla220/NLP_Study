{
 "cells": [
  {
   "cell_type": "code",
   "execution_count": 3,
   "id": "7147b757",
   "metadata": {},
   "outputs": [
    {
     "name": "stdout",
     "output_type": "stream",
     "text": [
      "2.3.0\n"
     ]
    }
   ],
   "source": [
    "import numpy as np\n",
    "import tensorflow as tf\n",
    "from tensorflow import keras\n",
    "print(tf.__version__)"
   ]
  },
  {
   "cell_type": "code",
   "execution_count": 5,
   "id": "9c70c83a",
   "metadata": {},
   "outputs": [],
   "source": [
    "# Dataset\n",
    "imdb = keras.datasets.imdb\n",
    "# 가장 많이 등장하는 상위 10,000개의 단어 사용. \n",
    "(x_train, y_train), (x_test, y_test) = imdb.load_data(num_words=10000)"
   ]
  },
  {
   "cell_type": "markdown",
   "id": "5a08df2e",
   "metadata": {},
   "source": [
    "### 데이터 형태 확인 \n",
    " 1. 텍스트는 어휘 사전의 특정 단어를 나타내는 정수로 변환되어있다. \n",
    " 2. 각 영화 리뷰들은 길이가 다르다. <- 신경망의 입력은 길이가 같아야한다! "
   ]
  },
  {
   "cell_type": "code",
   "execution_count": 14,
   "id": "c0d1e1e0",
   "metadata": {},
   "outputs": [
    {
     "name": "stdout",
     "output_type": "stream",
     "text": [
      "훈련 샘플: 25000, 레이블: 25000\n",
      "데이터 샘플:  [1, 14, 22, 16, 43, 530, 973, 1622, 1385, 65, 458, 4468, 66, 3941, 4, 173, 36, 256, 5, 25, 100, 43, 838, 112, 50, 670, 2, 9, 35, 480, 284, 5, 150, 4, 172, 112, 167, 2, 336, 385, 39, 4, 172, 4536, 1111, 17, 546, 38, 13, 447, 4, 192, 50, 16, 6, 147, 2025, 19, 14, 22, 4, 1920, 4613, 469, 4, 22, 71, 87, 12, 16, 43, 530, 38, 76, 15, 13, 1247, 4, 22, 17, 515, 17, 12, 16, 626, 18, 2, 5, 62, 386, 12, 8, 316, 8, 106, 5, 4, 2223, 5244, 16, 480, 66, 3785, 33, 4, 130, 12, 16, 38, 619, 5, 25, 124, 51, 36, 135, 48, 25, 1415, 33, 6, 22, 12, 215, 28, 77, 52, 5, 14, 407, 16, 82, 2, 8, 4, 107, 117, 5952, 15, 256, 4, 2, 7, 3766, 5, 723, 36, 71, 43, 530, 476, 26, 400, 317, 46, 7, 4, 2, 1029, 13, 104, 88, 4, 381, 15, 297, 98, 32, 2071, 56, 26, 141, 6, 194, 7486, 18, 4, 226, 22, 21, 134, 476, 26, 480, 5, 144, 30, 5535, 18, 51, 36, 28, 224, 92, 25, 104, 4, 226, 65, 16, 38, 1334, 88, 12, 16, 283, 5, 16, 4472, 113, 103, 32, 15, 16, 5345, 19, 178, 32]\n",
      "샘플 길이:  218 189\n"
     ]
    }
   ],
   "source": [
    "print(\"훈련 샘플: {}, 레이블: {}\".format(len(x_train), len(y_train)))\n",
    "print(\"데이터 샘플: \", x_train[0])\n",
    "print(\"샘플 길이: \", len(x_train[0]), len(x_train[1]))"
   ]
  },
  {
   "cell_type": "markdown",
   "id": "62562bc6",
   "metadata": {},
   "source": [
    "### 정수를 단어로 다시 변환하기 \n",
    "* 정수와 문자열을 매핑한 dictionary 객체에 질의하는 헬퍼(helper) 함수를 만든다."
   ]
  },
  {
   "cell_type": "code",
   "execution_count": 33,
   "id": "601da96a",
   "metadata": {},
   "outputs": [
    {
     "name": "stdout",
     "output_type": "stream",
     "text": [
      "index 갯수:  88588\n"
     ]
    }
   ],
   "source": [
    "# 단어와 정수 인덱스를 매핑한 딕셔너리\n",
    "word_index = imdb.get_word_index()\n",
    "# 처음 몇 개 인덱스는 사전에 정의되어 있다. \n",
    "print(\"index 갯수: \", len(word_index))\n",
    "word_index[\"<PAD>\"] = 0 \n",
    "word_index[\"<START>\"] = 1\n",
    "word_index[\"<UNK>}\"] = 2 # unknown\n",
    "word_index[\"<UNUSED>}\"] = 3 "
   ]
  },
  {
   "cell_type": "code",
   "execution_count": 36,
   "id": "71b78f8d",
   "metadata": {},
   "outputs": [],
   "source": [
    "reverse_word_index = dict([(value, key) for (key, value) in word_index.items()])"
   ]
  },
  {
   "cell_type": "code",
   "execution_count": 50,
   "id": "afaaaec2",
   "metadata": {},
   "outputs": [],
   "source": [
    "def decode_review(text):\n",
    "    return ' '.join([reverse_word_index.get(i, '?') for i in text])"
   ]
  },
  {
   "cell_type": "code",
   "execution_count": 53,
   "id": "251671bd",
   "metadata": {},
   "outputs": [
    {
     "data": {
      "text/plain": [
       "\"<START> as you with out themselves powerful lets loves their becomes reaching had journalist of lot from anyone to have after out atmosphere never more room <UNK>} it so heart shows to years of every never going <UNK>} help moments or of every chest visual movie except her was several of enough more with is now current film as you of mine potentially unfortunately of you than him that with out themselves her get for was camp of you movie sometimes movie that with scary but <UNK>} to story wonderful that in seeing in character to of 70s musicians with heart had shadows they of here that with her serious to have does when from why what have critics they is you that isn't one will very to as itself with other <UNK>} in of seen over landed for anyone of <UNK>} br show's to whether from than out themselves history he name half some br of <UNK>} odd was two most of mean for 1 any an boat she he should is thought frog but of script you not while history he heart to real at barrel but when from one bit then have two of script their with her nobody most that with wasn't to with armed acting watch an for with heartfelt film want an\""
      ]
     },
     "execution_count": 53,
     "metadata": {},
     "output_type": "execute_result"
    }
   ],
   "source": [
    "decode_review(x_train[0])"
   ]
  },
  {
   "cell_type": "markdown",
   "id": "8af05667",
   "metadata": {},
   "source": [
    "### 데이터 준비\n",
    "리뷰-정수 배열은 신경망에 주입하기 전에 tensor로 변환되어야한다. 변환방법?\n",
    "1. one-hot encoding : 정수 배열은 0과 1로 이루어진 벡터로 변환. 그 다음 실수 벡터 데이터를 다룰 수 있는 층 (Dense 층)을 신경망의 첫 번째 층으로 사용한다. <br>\n",
    "<b>num_words * num_reviews</b> 크기의 행렬이 필요하기 때문에 메모리를 많이 사용한다. \n",
    "2. padding 추가 to match the length of the array \n",
    "    <b>max_length * num_reviews</b> 크기의 정수 텐서를 만든다. "
   ]
  },
  {
   "cell_type": "code",
   "execution_count": 54,
   "id": "5296b0f2",
   "metadata": {},
   "outputs": [],
   "source": [
    "# Approach2: 영화 리뷰의 길이가 같아야 하므로 pad_sequences함수를 사용하여 길이를 맞춘다. \n",
    "train_data = keras.preprocessing.sequence.pad_sequences(x_train,\n",
    "                                                       value=word_index[\"<PAD>\"],\n",
    "                                                       padding='post',\n",
    "                                                       maxlen=256)\n",
    "test_data = keras.preprocessing.sequence.pad_sequences(x_test,\n",
    "                                                       value=word_index[\"<PAD>\"],\n",
    "                                                       padding='post',\n",
    "                                                       maxlen=256)"
   ]
  },
  {
   "cell_type": "code",
   "execution_count": 56,
   "id": "1a4b3a06",
   "metadata": {},
   "outputs": [
    {
     "name": "stdout",
     "output_type": "stream",
     "text": [
      "256 256\n"
     ]
    }
   ],
   "source": [
    "print(len(train_data[0]), len(train_data[1]))"
   ]
  },
  {
   "cell_type": "markdown",
   "id": "69f04236",
   "metadata": {},
   "source": [
    "### 모델 구성 \n",
    "신경망은 층(layer)를 쌓아서 만든 구조. 고려해야할 2가지\n",
    "1. 얼마나 많은 층을 사용할 것인가?\n",
    "2. 각 층에서 얼마나 많은 hidden unit을 사용할 것인가?"
   ]
  },
  {
   "cell_type": "code",
   "execution_count": 58,
   "id": "fdf82fb8",
   "metadata": {},
   "outputs": [
    {
     "name": "stdout",
     "output_type": "stream",
     "text": [
      "Model: \"sequential_1\"\n",
      "_________________________________________________________________\n",
      "Layer (type)                 Output Shape              Param #   \n",
      "=================================================================\n",
      "embedding (Embedding)        (None, None, 16)          160000    \n",
      "_________________________________________________________________\n",
      "global_average_pooling1d (Gl (None, 16)                0         \n",
      "_________________________________________________________________\n",
      "dense (Dense)                (None, 16)                272       \n",
      "_________________________________________________________________\n",
      "dense_1 (Dense)              (None, 1)                 17        \n",
      "=================================================================\n",
      "Total params: 160,289\n",
      "Trainable params: 160,289\n",
      "Non-trainable params: 0\n",
      "_________________________________________________________________\n"
     ]
    }
   ],
   "source": [
    "vocab_size = 10000\n",
    "model = keras.Sequential()\n",
    "model.add(keras.layers.Embedding(vocab_size, 16, input_shape=(None,)))\n",
    "model.add(keras.layers.GlobalAveragePooling1D())\n",
    "model.add(keras.layers.Dense(16, activation='relu'))\n",
    "model.add(keras.layers.Dense(1, activation='sigmoid'))\n",
    "model.summary()"
   ]
  },
  {
   "cell_type": "markdown",
   "id": "c6b8c223",
   "metadata": {},
   "source": [
    "##### Hidden Units\n",
    "* 입력과 출력 사이에 두 개의 중간 또는 \"은닉\"층이 있다. 출력의 개수는 층이 가진 표현 공간(representational space)의 차원이 된다. (학습할때 허용되는 네트워크 자유도의 양) \n",
    "\n",
    "* 모델에 많은 은닉유닛과 층이 있다면 네트워크는 더 복잡한 표현을 학습할 수 있다.\n",
    "* 하지만 네트워크의 계산 비용이 많이 들고 원치않는 패턴을 학습할 수도 있다. \n",
    "* 훈련 데이터의 성능은 향상되지만 테스트 데이터에서는 그렇지 않은경우 : <b>Overfitting(과대적합)</b>"
   ]
  },
  {
   "cell_type": "markdown",
   "id": "7dbf171c",
   "metadata": {},
   "source": [
    "##### Loss function and Optimizer\n",
    "* 이진 분류 문제, 모델이 확률을 출력(출력층의 유닛이 하나이고 sigmoid 활성화 함수 사용됨) 이므로 binary_crossentropy 손실 함수를 사용한다. \n",
    "    - 확률 분포 간의 거리를 측정한다. 정답과 예측 분포 사이의 거리 \n",
    "* mean_squared_error도 사용가능. \n",
    "\n",
    "cf) Regression문제(주택가격 예측문제)일때는 mean squared error(평균 제곱 오차)를 사용한다"
   ]
  },
  {
   "cell_type": "code",
   "execution_count": 59,
   "id": "f9f83952",
   "metadata": {},
   "outputs": [],
   "source": [
    "model.compile(optimizer='adam',\n",
    "             loss='binary_crossentropy',\n",
    "             metrics=['accuracy'])"
   ]
  },
  {
   "cell_type": "markdown",
   "id": "4f66ed4d",
   "metadata": {},
   "source": [
    "##### Validation Set\n",
    "* 모델을 훈련할 때 모델이 만난 적 없는 데이터에서 정확도를 확인하는 것이 좋다. "
   ]
  },
  {
   "cell_type": "code",
   "execution_count": 63,
   "id": "56c28631",
   "metadata": {},
   "outputs": [],
   "source": [
    "x_val = train_data[:10000]\n",
    "partial_x_train = train_data[10000:]\n",
    "\n",
    "y_val = y_train[:10000]\n",
    "partial_y_train = y_train[10000:]"
   ]
  },
  {
   "cell_type": "markdown",
   "id": "f3891697",
   "metadata": {},
   "source": [
    "##### Training\n",
    "* 이 모델을 512개의 샘플로 이루어진 mini-batch에서 40번의 epoch동안 훈련한다. x_train, y_train Tensor에 있는 모든 샘플에 대해 40번 반복한다는 뜻. \n",
    "\n",
    "* verbose = verbosity mode (0:silent, 1:progress bar, 2:one line per epoch) 얼마나 자세하게 정보를 표시할 것인가를 지정"
   ]
  },
  {
   "cell_type": "code",
   "execution_count": 65,
   "id": "a1ab6083",
   "metadata": {},
   "outputs": [
    {
     "name": "stdout",
     "output_type": "stream",
     "text": [
      "Epoch 1/40\n",
      "30/30 [==============================] - 0s 16ms/step - loss: 0.6926 - accuracy: 0.5607 - val_loss: 0.6916 - val_accuracy: 0.6583\n",
      "Epoch 2/40\n",
      "30/30 [==============================] - 0s 11ms/step - loss: 0.6894 - accuracy: 0.7219 - val_loss: 0.6868 - val_accuracy: 0.7242\n",
      "Epoch 3/40\n",
      "30/30 [==============================] - 0s 11ms/step - loss: 0.6811 - accuracy: 0.7267 - val_loss: 0.6751 - val_accuracy: 0.6967\n",
      "Epoch 4/40\n",
      "30/30 [==============================] - 0s 11ms/step - loss: 0.6631 - accuracy: 0.7542 - val_loss: 0.6526 - val_accuracy: 0.7457\n",
      "Epoch 5/40\n",
      "30/30 [==============================] - 0s 11ms/step - loss: 0.6324 - accuracy: 0.7779 - val_loss: 0.6188 - val_accuracy: 0.7745\n",
      "Epoch 6/40\n",
      "30/30 [==============================] - 0s 11ms/step - loss: 0.5904 - accuracy: 0.7985 - val_loss: 0.5766 - val_accuracy: 0.7837\n",
      "Epoch 7/40\n",
      "30/30 [==============================] - 0s 11ms/step - loss: 0.5414 - accuracy: 0.8179 - val_loss: 0.5302 - val_accuracy: 0.8100\n",
      "Epoch 8/40\n",
      "30/30 [==============================] - 0s 10ms/step - loss: 0.4900 - accuracy: 0.8380 - val_loss: 0.4849 - val_accuracy: 0.8253\n",
      "Epoch 9/40\n",
      "30/30 [==============================] - 0s 11ms/step - loss: 0.4422 - accuracy: 0.8534 - val_loss: 0.4448 - val_accuracy: 0.8391\n",
      "Epoch 10/40\n",
      "30/30 [==============================] - 0s 10ms/step - loss: 0.4001 - accuracy: 0.8682 - val_loss: 0.4118 - val_accuracy: 0.8478\n",
      "Epoch 11/40\n",
      "30/30 [==============================] - 0s 12ms/step - loss: 0.3657 - accuracy: 0.8787 - val_loss: 0.3852 - val_accuracy: 0.8555\n",
      "Epoch 12/40\n",
      "30/30 [==============================] - 0s 12ms/step - loss: 0.3363 - accuracy: 0.8863 - val_loss: 0.3658 - val_accuracy: 0.8608\n",
      "Epoch 13/40\n",
      "30/30 [==============================] - 0s 10ms/step - loss: 0.3126 - accuracy: 0.8937 - val_loss: 0.3482 - val_accuracy: 0.8668\n",
      "Epoch 14/40\n",
      "30/30 [==============================] - 0s 13ms/step - loss: 0.2924 - accuracy: 0.8987 - val_loss: 0.3352 - val_accuracy: 0.8706\n",
      "Epoch 15/40\n",
      "30/30 [==============================] - 0s 12ms/step - loss: 0.2751 - accuracy: 0.9045 - val_loss: 0.3246 - val_accuracy: 0.8742\n",
      "Epoch 16/40\n",
      "30/30 [==============================] - 0s 12ms/step - loss: 0.2589 - accuracy: 0.9108 - val_loss: 0.3163 - val_accuracy: 0.8772\n",
      "Epoch 17/40\n",
      "30/30 [==============================] - 0s 11ms/step - loss: 0.2455 - accuracy: 0.9148 - val_loss: 0.3090 - val_accuracy: 0.8799\n",
      "Epoch 18/40\n",
      "30/30 [==============================] - 0s 12ms/step - loss: 0.2330 - accuracy: 0.9179 - val_loss: 0.3033 - val_accuracy: 0.8803\n",
      "Epoch 19/40\n",
      "30/30 [==============================] - 0s 11ms/step - loss: 0.2215 - accuracy: 0.9219 - val_loss: 0.2987 - val_accuracy: 0.8810\n",
      "Epoch 20/40\n",
      "30/30 [==============================] - 0s 13ms/step - loss: 0.2109 - accuracy: 0.9264 - val_loss: 0.2948 - val_accuracy: 0.8829\n",
      "Epoch 21/40\n",
      "30/30 [==============================] - 0s 11ms/step - loss: 0.2010 - accuracy: 0.9308 - val_loss: 0.2918 - val_accuracy: 0.8825\n",
      "Epoch 22/40\n",
      "30/30 [==============================] - 0s 12ms/step - loss: 0.1926 - accuracy: 0.9335 - val_loss: 0.2898 - val_accuracy: 0.8836\n",
      "Epoch 23/40\n",
      "30/30 [==============================] - 0s 12ms/step - loss: 0.1836 - accuracy: 0.9380 - val_loss: 0.2879 - val_accuracy: 0.8847\n",
      "Epoch 24/40\n",
      "30/30 [==============================] - 0s 11ms/step - loss: 0.1759 - accuracy: 0.9423 - val_loss: 0.2867 - val_accuracy: 0.8849\n",
      "Epoch 25/40\n",
      "30/30 [==============================] - 0s 13ms/step - loss: 0.1682 - accuracy: 0.9455 - val_loss: 0.2860 - val_accuracy: 0.8849\n",
      "Epoch 26/40\n",
      "30/30 [==============================] - 0s 11ms/step - loss: 0.1612 - accuracy: 0.9482 - val_loss: 0.2857 - val_accuracy: 0.8847\n",
      "Epoch 27/40\n",
      "30/30 [==============================] - 0s 12ms/step - loss: 0.1547 - accuracy: 0.9515 - val_loss: 0.2856 - val_accuracy: 0.8857\n",
      "Epoch 28/40\n",
      "30/30 [==============================] - 0s 11ms/step - loss: 0.1484 - accuracy: 0.9545 - val_loss: 0.2861 - val_accuracy: 0.8852\n",
      "Epoch 29/40\n",
      "30/30 [==============================] - 0s 11ms/step - loss: 0.1422 - accuracy: 0.9571 - val_loss: 0.2877 - val_accuracy: 0.8861\n",
      "Epoch 30/40\n",
      "30/30 [==============================] - 0s 10ms/step - loss: 0.1365 - accuracy: 0.9593 - val_loss: 0.2891 - val_accuracy: 0.8852\n",
      "Epoch 31/40\n",
      "30/30 [==============================] - 0s 12ms/step - loss: 0.1315 - accuracy: 0.9608 - val_loss: 0.2897 - val_accuracy: 0.8851\n",
      "Epoch 32/40\n",
      "30/30 [==============================] - 0s 11ms/step - loss: 0.1259 - accuracy: 0.9637 - val_loss: 0.2916 - val_accuracy: 0.8852\n",
      "Epoch 33/40\n",
      "30/30 [==============================] - 0s 13ms/step - loss: 0.1212 - accuracy: 0.9653 - val_loss: 0.2935 - val_accuracy: 0.8855\n",
      "Epoch 34/40\n",
      "30/30 [==============================] - 0s 12ms/step - loss: 0.1166 - accuracy: 0.9667 - val_loss: 0.2957 - val_accuracy: 0.8852\n",
      "Epoch 35/40\n",
      "30/30 [==============================] - 0s 12ms/step - loss: 0.1118 - accuracy: 0.9688 - val_loss: 0.2979 - val_accuracy: 0.8850\n",
      "Epoch 36/40\n",
      "30/30 [==============================] - 0s 10ms/step - loss: 0.1074 - accuracy: 0.9704 - val_loss: 0.3015 - val_accuracy: 0.8829\n",
      "Epoch 37/40\n",
      "30/30 [==============================] - 0s 11ms/step - loss: 0.1038 - accuracy: 0.9711 - val_loss: 0.3049 - val_accuracy: 0.8837\n",
      "Epoch 38/40\n",
      "30/30 [==============================] - 0s 11ms/step - loss: 0.0996 - accuracy: 0.9725 - val_loss: 0.3062 - val_accuracy: 0.8833\n",
      "Epoch 39/40\n",
      "30/30 [==============================] - 0s 10ms/step - loss: 0.0955 - accuracy: 0.9746 - val_loss: 0.3095 - val_accuracy: 0.8825\n",
      "Epoch 40/40\n",
      "30/30 [==============================] - 0s 10ms/step - loss: 0.0922 - accuracy: 0.9758 - val_loss: 0.3124 - val_accuracy: 0.8842\n"
     ]
    }
   ],
   "source": [
    "history = model.fit(partial_x_train,\n",
    "                   partial_y_train, \n",
    "                   epochs=40,\n",
    "                   batch_size=512,\n",
    "                   validation_data=(x_val,y_val),\n",
    "                   verbose=1)"
   ]
  },
  {
   "cell_type": "markdown",
   "id": "ba72006c",
   "metadata": {},
   "source": [
    "##### Evaluation"
   ]
  },
  {
   "cell_type": "code",
   "execution_count": 67,
   "id": "589f3711",
   "metadata": {},
   "outputs": [
    {
     "name": "stdout",
     "output_type": "stream",
     "text": [
      "782/782 - 0s - loss: 0.3343 - accuracy: 0.8719\n",
      "782/782 [==============================] - 0s 551us/step - loss: 0.3343 - accuracy: 0.8719\n",
      "[0.33434998989105225, 0.8718799948692322]\n",
      "[0.33434998989105225, 0.8718799948692322]\n"
     ]
    }
   ],
   "source": [
    "results = model.evaluate(test_data, y_test, verbose=2)\n",
    "results2 = model.evaluate(test_data, y_test, verbose=1)\n",
    "print(results)\n",
    "print(results2)"
   ]
  },
  {
   "cell_type": "markdown",
   "id": "5d4d1447",
   "metadata": {},
   "source": [
    "##### 정확도와 손실 그래프 그리기 "
   ]
  },
  {
   "cell_type": "code",
   "execution_count": 68,
   "id": "a16bf2bf",
   "metadata": {},
   "outputs": [
    {
     "data": {
      "text/plain": [
       "dict_keys(['loss', 'accuracy', 'val_loss', 'val_accuracy'])"
      ]
     },
     "execution_count": 68,
     "metadata": {},
     "output_type": "execute_result"
    }
   ],
   "source": [
    "history_dict = history.history\n",
    "history_dict.keys()"
   ]
  },
  {
   "cell_type": "code",
   "execution_count": 72,
   "id": "282c5369",
   "metadata": {},
   "outputs": [],
   "source": [
    "# !pip install matplotlib\n",
    "import matplotlib.pyplot as plt"
   ]
  },
  {
   "cell_type": "code",
   "execution_count": 74,
   "id": "34fbf046",
   "metadata": {},
   "outputs": [
    {
     "data": {
      "image/png": "[encoded data removed]",
      "text/plain": [
       "<Figure size 432x288 with 1 Axes>"
      ]
     },
     "metadata": {
      "needs_background": "light"
     },
     "output_type": "display_data"
    }
   ],
   "source": [
    "acc = history_dict['accuracy']\n",
    "val_acc = history_dict['val_accuracy']\n",
    "loss = history_dict['loss']\n",
    "val_loss = history_dict['val_loss']\n",
    "\n",
    "epoch = range(1, len(acc) + 1)\n",
    "\n",
    "plt.plot(epoch, loss, 'bo', label='Training loss')\n",
    "plt.plot(epoch, val_loss, 'b', label='Validation loss')\n",
    "plt.title('Training and validation loss')\n",
    "plt.xlabel\n",
    "plt.ylabel\n",
    "plt.legend() # 자동기능을 이용한 작성\n",
    "\n",
    "plt.show()"
   ]
  },
  {
   "cell_type": "code",
   "execution_count": 76,
   "id": "5e95ad95",
   "metadata": {},
   "outputs": [
    {
     "data": {
      "image/png": "[encoded data removed]",
      "text/plain": [
       "<Figure size 432x288 with 1 Axes>"
      ]
     },
     "metadata": {
      "needs_background": "light"
     },
     "output_type": "display_data"
    }
   ],
   "source": [
    "plt.clf() # Clear Figure\n",
    "\n",
    "plt.plot(epoch, acc, 'bo', label='Training acc')\n",
    "plt.plot(epoch, val_acc, 'b', label='Validation acc')\n",
    "plt.title('Training and validation accuracy')\n",
    "plt.xlabel('Epochs')\n",
    "plt.ylabel('Accuracy')\n",
    "plt.legend()\n",
    "\n",
    "plt.show()"
   ]
  },
  {
   "cell_type": "code",
   "execution_count": null,
   "id": "7d3d1799",
   "metadata": {},
   "outputs": [],
   "source": []
  }
 ],
 "metadata": {
  "kernelspec": {
   "display_name": "Python 3",
   "language": "python",
   "name": "python3"
  },
  "language_info": {
   "codemirror_mode": {
    "name": "ipython",
    "version": 3
   },
   "file_extension": ".py",
   "mimetype": "text/x-python",
   "name": "python",
   "nbconvert_exporter": "python",
   "pygments_lexer": "ipython3",
   "version": "3.6.9"
  }
 },
 "nbformat": 4,
 "nbformat_minor": 5
}
